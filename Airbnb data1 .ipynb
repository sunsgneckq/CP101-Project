{
 "cells": [
  {
   "cell_type": "markdown",
   "metadata": {},
   "source": [
    "# Load all the required package"
   ]
  },
  {
   "cell_type": "code",
   "execution_count": 1,
   "metadata": {},
   "outputs": [],
   "source": [
    "import numpy as np\n",
    "import matplotlib.pyplot as plt\n",
    "import pandas as pd\n",
    "import matplotlib\n",
    "import seaborn as sns\n",
    "import re\n",
    "import os\n",
    "from sklearn.metrics import mean_squared_error\n",
    "from sklearn.metrics import mean_absolute_error\n",
    "from statistics import mean\n",
    "import random\n",
    "%matplotlib inline\n",
    "\n",
    "from IPython.core.interactiveshell import InteractiveShell\n",
    "InteractiveShell.ast_node_interactivity = \"all\"\n",
    "\n",
    "import statsmodels.datasets as datasets\n",
    "import sklearn.metrics as metrics\n",
    "from numpy import log"
   ]
  },
  {
   "cell_type": "markdown",
   "metadata": {},
   "source": [
    "Combine all the file and read as csv"
   ]
  },
  {
   "cell_type": "code",
   "execution_count": 2,
   "metadata": {},
   "outputs": [],
   "source": [
    "def read_organize_data(file_path):\n",
    "    #file_path: the path to the folder 'data'\n",
    "    all_data = pd.DataFrame()\n",
    "    for (path, dirList, fileList) in os.walk(file_path):\n",
    "        for file in fileList:\n",
    "            if 'csv' in file:\n",
    "                curr_data = pd.read_csv(os.path.join(path, file), low_memory=False)\n",
    "                #Remain columns in original order\n",
    "                all_data = all_data.append(curr_data, sort=False)  \n",
    "    return all_data"
   ]
  },
  {
   "cell_type": "code",
   "execution_count": 3,
   "metadata": {},
   "outputs": [],
   "source": [
    "#data = read_organize_data('data')\n",
    "#data.to_hdf('./data/listings.hdf', \"all\")"
   ]
  },
  {
   "cell_type": "code",
   "execution_count": 4,
   "metadata": {},
   "outputs": [],
   "source": [
    "data = pd.read_hdf('./data/listings.hdf', 'all')"
   ]
  },
  {
   "cell_type": "markdown",
   "metadata": {},
   "source": [
    "Check the shape of the data and select the predictors that are not words. There are lots of data that contains reviews. We could use them in the future combined with NLP analysis as add-on features.  "
   ]
  },
  {
   "cell_type": "code",
   "execution_count": 5,
   "metadata": {},
   "outputs": [
    {
     "data": {
      "text/plain": [
       "(298560, 96)"
      ]
     },
     "execution_count": 5,
     "metadata": {},
     "output_type": "execute_result"
    },
    {
     "data": {
      "text/plain": [
       "Index(['id', 'listing_url', 'scrape_id', 'last_scraped', 'name', 'summary',\n",
       "       'space', 'description', 'experiences_offered', 'neighborhood_overview',\n",
       "       'notes', 'transit', 'access', 'interaction', 'house_rules',\n",
       "       'thumbnail_url', 'medium_url', 'picture_url', 'xl_picture_url',\n",
       "       'host_id', 'host_url', 'host_name', 'host_since', 'host_location',\n",
       "       'host_about', 'host_response_time', 'host_response_rate',\n",
       "       'host_acceptance_rate', 'host_is_superhost', 'host_thumbnail_url',\n",
       "       'host_picture_url', 'host_neighbourhood', 'host_listings_count',\n",
       "       'host_total_listings_count', 'host_verifications',\n",
       "       'host_has_profile_pic', 'host_identity_verified', 'street',\n",
       "       'neighbourhood', 'neighbourhood_cleansed',\n",
       "       'neighbourhood_group_cleansed', 'city', 'state', 'zipcode', 'market',\n",
       "       'smart_location', 'country_code', 'country', 'latitude', 'longitude',\n",
       "       'is_location_exact', 'property_type', 'room_type', 'accommodates',\n",
       "       'bathrooms', 'bedrooms', 'beds', 'bed_type', 'amenities', 'square_feet',\n",
       "       'price', 'weekly_price', 'monthly_price', 'security_deposit',\n",
       "       'cleaning_fee', 'guests_included', 'extra_people', 'minimum_nights',\n",
       "       'maximum_nights', 'calendar_updated', 'has_availability',\n",
       "       'availability_30', 'availability_60', 'availability_90',\n",
       "       'availability_365', 'calendar_last_scraped', 'number_of_reviews',\n",
       "       'first_review', 'last_review', 'review_scores_rating',\n",
       "       'review_scores_accuracy', 'review_scores_cleanliness',\n",
       "       'review_scores_checkin', 'review_scores_communication',\n",
       "       'review_scores_location', 'review_scores_value', 'requires_license',\n",
       "       'license', 'jurisdiction_names', 'instant_bookable',\n",
       "       'is_business_travel_ready', 'cancellation_policy',\n",
       "       'require_guest_profile_picture', 'require_guest_phone_verification',\n",
       "       'calculated_host_listings_count', 'reviews_per_month'],\n",
       "      dtype='object')"
      ]
     },
     "execution_count": 5,
     "metadata": {},
     "output_type": "execute_result"
    }
   ],
   "source": [
    "data.shape\n",
    "data.columns\n",
    "predictors = ['id', 'last_scraped', 'host_total_listings_count', 'host_identity_verified', 'neighbourhood_cleansed',\n",
    "              'latitude', 'longitude', 'property_type', 'room_type', 'accommodates', 'bathrooms', \n",
    "              'bedrooms', 'beds', 'bed_type', 'amenities', 'square_feet', 'minimum_nights', 'cancellation_policy',\n",
    "              'is_business_travel_ready', 'cleaning_fee', 'price']\n",
    "       \n",
    "predictors_nlp = ['name', 'summary', 'transit', 'interaction', 'host_about']\n",
    "# amenities can select a few, do seperate cols\n",
    "# accommodates vs guest_included, extra_people"
   ]
  },
  {
   "cell_type": "code",
   "execution_count": 6,
   "metadata": {},
   "outputs": [],
   "source": [
    "data_new = data[predictors]"
   ]
  },
  {
   "cell_type": "code",
   "execution_count": 7,
   "metadata": {
    "scrolled": true
   },
   "outputs": [
    {
     "data": {
      "text/plain": [
       "id                             int64\n",
       "last_scraped                  object\n",
       "host_total_listings_count    float64\n",
       "host_identity_verified        object\n",
       "neighbourhood_cleansed        object\n",
       "latitude                     float64\n",
       "longitude                    float64\n",
       "property_type                 object\n",
       "room_type                     object\n",
       "accommodates                   int64\n",
       "bathrooms                    float64\n",
       "bedrooms                     float64\n",
       "beds                         float64\n",
       "bed_type                      object\n",
       "amenities                     object\n",
       "square_feet                  float64\n",
       "minimum_nights                 int64\n",
       "cancellation_policy           object\n",
       "is_business_travel_ready      object\n",
       "cleaning_fee                  object\n",
       "price                         object\n",
       "dtype: object"
      ]
     },
     "execution_count": 7,
     "metadata": {},
     "output_type": "execute_result"
    }
   ],
   "source": [
    "data_new.dtypes"
   ]
  },
  {
   "cell_type": "code",
   "execution_count": 8,
   "metadata": {},
   "outputs": [
    {
     "data": {
      "text/plain": [
       "'$999.00'"
      ]
     },
     "execution_count": 8,
     "metadata": {},
     "output_type": "execute_result"
    }
   ],
   "source": [
    "data_new[\"price\"].max()"
   ]
  },
  {
   "cell_type": "code",
   "execution_count": 9,
   "metadata": {
    "scrolled": false
   },
   "outputs": [
    {
     "data": {
      "text/plain": [
       "id                           False\n",
       "last_scraped                 False\n",
       "host_total_listings_count     True\n",
       "host_identity_verified        True\n",
       "neighbourhood_cleansed       False\n",
       "latitude                     False\n",
       "longitude                    False\n",
       "property_type                 True\n",
       "room_type                    False\n",
       "accommodates                 False\n",
       "bathrooms                     True\n",
       "bedrooms                      True\n",
       "beds                          True\n",
       "bed_type                     False\n",
       "amenities                     True\n",
       "square_feet                   True\n",
       "minimum_nights               False\n",
       "cancellation_policy           True\n",
       "is_business_travel_ready      True\n",
       "cleaning_fee                  True\n",
       "price                        False\n",
       "dtype: bool"
      ]
     },
     "execution_count": 9,
     "metadata": {},
     "output_type": "execute_result"
    },
    {
     "data": {
      "text/plain": [
       "id                            0.000000\n",
       "last_scraped                  0.000000\n",
       "host_total_listings_count     1.909834\n",
       "host_identity_verified        1.909834\n",
       "neighbourhood_cleansed        0.000000\n",
       "latitude                      0.000000\n",
       "longitude                     0.000000\n",
       "property_type                 0.024451\n",
       "room_type                     0.000000\n",
       "accommodates                  0.000000\n",
       "bathrooms                     0.472267\n",
       "bedrooms                      0.066988\n",
       "beds                          0.138331\n",
       "bed_type                      0.000000\n",
       "amenities                     1.817055\n",
       "square_feet                  97.706994\n",
       "minimum_nights                0.000000\n",
       "cancellation_policy           1.817055\n",
       "is_business_travel_ready     63.855841\n",
       "cleaning_fee                 23.929528\n",
       "price                         0.000000\n",
       "dtype: float64"
      ]
     },
     "execution_count": 9,
     "metadata": {},
     "output_type": "execute_result"
    }
   ],
   "source": [
    "# check missing values for each column\n",
    "data_new.isnull().any()\n",
    "# check the percentage of NA in each column\n",
    "data_new.isnull().mean() * 100 \n",
    "#"
   ]
  },
  {
   "cell_type": "markdown",
   "metadata": {},
   "source": [
    "# Visualization"
   ]
  },
  {
   "cell_type": "code",
   "execution_count": 10,
   "metadata": {},
   "outputs": [
    {
     "data": {
      "text/plain": [
       "<matplotlib.axes._subplots.AxesSubplot at 0x1a233151d0>"
      ]
     },
     "execution_count": 10,
     "metadata": {},
     "output_type": "execute_result"
    },
    {
     "data": {
      "text/plain": [
       "0.0      25922\n",
       "1.0     187733\n",
       "2.0      51384\n",
       "3.0      23925\n",
       "4.0       7560\n",
       "5.0       1115\n",
       "6.0        304\n",
       "7.0        128\n",
       "8.0         16\n",
       "9.0         43\n",
       "10.0        36\n",
       "11.0         2\n",
       "15.0       192\n",
       "Name: bedrooms, dtype: int64"
      ]
     },
     "execution_count": 10,
     "metadata": {},
     "output_type": "execute_result"
    },
    {
     "data": {
      "image/png": "[encoded data removed]",
      "text/plain": [
       "<Figure size 432x288 with 1 Axes>"
      ]
     },
     "metadata": {
      "needs_background": "light"
     },
     "output_type": "display_data"
    }
   ],
   "source": [
    "# visualize distribution\n",
    "sns.countplot(data_new['bedrooms'].dropna())\n",
    "data_new['bedrooms'].value_counts().sort_index()"
   ]
  },
  {
   "cell_type": "code",
   "execution_count": 11,
   "metadata": {},
   "outputs": [
    {
     "data": {
      "text/plain": [
       "<matplotlib.axes._subplots.AxesSubplot at 0x10ef1dbd0>"
      ]
     },
     "execution_count": 11,
     "metadata": {},
     "output_type": "execute_result"
    },
    {
     "data": {
      "text/plain": [
       "0.0       2512\n",
       "0.5       1166\n",
       "1.0     214660\n",
       "1.5      21882\n",
       "2.0      38794\n",
       "2.5       7491\n",
       "3.0       5521\n",
       "3.5       2117\n",
       "4.0       1204\n",
       "4.5        407\n",
       "5.0        522\n",
       "5.5         38\n",
       "6.0        235\n",
       "6.5         27\n",
       "7.0        101\n",
       "7.5          8\n",
       "8.0        268\n",
       "9.0          4\n",
       "10.0         1\n",
       "15.0       192\n",
       "Name: bathrooms, dtype: int64"
      ]
     },
     "execution_count": 11,
     "metadata": {},
     "output_type": "execute_result"
    },
    {
     "data": {
      "image/png": "[encoded data removed]",
      "text/plain": [
       "<Figure size 432x288 with 1 Axes>"
      ]
     },
     "metadata": {
      "needs_background": "light"
     },
     "output_type": "display_data"
    }
   ],
   "source": [
    "sns.countplot(data_new['bathrooms'].dropna())\n",
    "data_new['bathrooms'].value_counts().sort_index()"
   ]
  },
  {
   "cell_type": "markdown",
   "metadata": {},
   "source": [
    "# Data cleaning\n",
    "## Correlation plot"
   ]
  },
  {
   "cell_type": "code",
   "execution_count": 12,
   "metadata": {
    "scrolled": false
   },
   "outputs": [
    {
     "data": {
      "text/plain": [
       "<matplotlib.axes._subplots.AxesSubplot at 0x10efd0f90>"
      ]
     },
     "execution_count": 12,
     "metadata": {},
     "output_type": "execute_result"
    },
    {
     "data": {
      "image/png": "[encoded data removed]",
      "text/plain": [
       "<Figure size 792x648 with 2 Axes>"
      ]
     },
     "metadata": {},
     "output_type": "display_data"
    }
   ],
   "source": [
    "sns.set(style=\"white\")\n",
    "\n",
    "# Compute the correlation matrix 'top90', 'upto25', .drop(['scrape_id', 'license'], axis=1)\n",
    "corr = data_new.corr()\n",
    "# Generate a mask for the upper triangle\n",
    "mask = np.zeros_like(corr, dtype=np.bool)\n",
    "mask[np.triu_indices_from(mask)] = True\n",
    "\n",
    "# Set up the matplotlib figure\n",
    "f, ax = plt.subplots(figsize=(11, 9))\n",
    "cmap = sns.diverging_palette(200, 30, as_cmap=True)\n",
    "sns.heatmap(corr, mask=mask, cmap=cmap, vmax=.3, center=0,\n",
    "            square=True, linewidths=.5, cbar_kws={\"shrink\": .5})"
   ]
  },
  {
   "cell_type": "code",
   "execution_count": 13,
   "metadata": {},
   "outputs": [],
   "source": [
    "# def convert_currency(val):\n",
    "#     new_val = val.replace(',','').replace('$', '') # Remove $ and commas\n",
    "#     return float(new_val)\n",
    "def remove_dollar_sign(val):\n",
    "    new_val = val.replace(\"$\", \"\")\n",
    "    new_val = float(new_val)\n",
    "    return new_val\n",
    "def remove_commas(val): \n",
    "    new_val = val.replace(\",\", \"\")\n",
    "    return new_val"
   ]
  },
  {
   "cell_type": "code",
   "execution_count": 14,
   "metadata": {
    "scrolled": false
   },
   "outputs": [
    {
     "name": "stderr",
     "output_type": "stream",
     "text": [
      "/opt/anaconda3/lib/python3.7/site-packages/pandas/core/indexing.py:494: SettingWithCopyWarning: \n",
      "A value is trying to be set on a copy of a slice from a DataFrame.\n",
      "Try using .loc[row_indexer,col_indexer] = value instead\n",
      "\n",
      "See the caveats in the documentation: http://pandas.pydata.org/pandas-docs/stable/user_guide/indexing.html#returning-a-view-versus-a-copy\n",
      "  self.obj[item] = s\n"
     ]
    }
   ],
   "source": [
    "# convert price to numeric\n",
    "data_new.loc[:,'price'] = data_new.loc[:,'price'].copy().apply(remove_commas).apply(remove_dollar_sign)"
   ]
  },
  {
   "cell_type": "markdown",
   "metadata": {},
   "source": [
    "# Convert cleaning_fee to numeric, remove dollar sign and fill NA with 0"
   ]
  },
  {
   "cell_type": "code",
   "execution_count": 15,
   "metadata": {},
   "outputs": [
    {
     "name": "stderr",
     "output_type": "stream",
     "text": [
      "/opt/anaconda3/lib/python3.7/site-packages/ipykernel_launcher.py:1: SettingWithCopyWarning: \n",
      "A value is trying to be set on a copy of a slice from a DataFrame.\n",
      "Try using .loc[row_indexer,col_indexer] = value instead\n",
      "\n",
      "See the caveats in the documentation: http://pandas.pydata.org/pandas-docs/stable/user_guide/indexing.html#returning-a-view-versus-a-copy\n",
      "  \"\"\"Entry point for launching an IPython kernel.\n"
     ]
    }
   ],
   "source": [
    "data_new['cleaning_fee'] = pd.to_numeric(data_new['cleaning_fee'].str.strip('$'), errors='coerce').fillna(0)"
   ]
  },
  {
   "cell_type": "markdown",
   "metadata": {},
   "source": [
    "# Remove outliers"
   ]
  },
  {
   "cell_type": "code",
   "execution_count": 16,
   "metadata": {},
   "outputs": [],
   "source": [
    "# Since 98% of 'square_feet' are NA, I will drop this column\n",
    "data_new = data_new.drop('square_feet', axis=1)"
   ]
  },
  {
   "cell_type": "code",
   "execution_count": 17,
   "metadata": {},
   "outputs": [],
   "source": [
    "def data_distribution(duration):\n",
    " \n",
    "    x = np.array(duration)\n",
    "    n = len(x)\n",
    "    n_bins = round(2 * n**(1/3))\n",
    "    fig = plt.figure()\n",
    "    plt1 = fig.add_axes([0.1, 0.3, 0.8, 0.6])\n",
    "    plt1 = plt.hist(x, bins=n_bins, alpha=0.7)\n",
    "    plt2 = fig.add_axes([0.1, 0.1, 0.8, 0.2])\n",
    "    plt2 = plt.boxplot(x, vert=False, widths=0.7)\n",
    "    plt.show()"
   ]
  },
  {
   "cell_type": "code",
   "execution_count": 18,
   "metadata": {
    "scrolled": true
   },
   "outputs": [
    {
     "data": {
      "image/png": "[encoded data removed]",
      "text/plain": [
       "<Figure size 432x288 with 2 Axes>"
      ]
     },
     "metadata": {},
     "output_type": "display_data"
    },
    {
     "data": {
      "text/plain": [
       "2000.0"
      ]
     },
     "execution_count": 18,
     "metadata": {},
     "output_type": "execute_result"
    }
   ],
   "source": [
    "data_distribution(data_new['price'])\n",
    "max_price = np.quantile(data_new['price'], 0.995)\n",
    "max_price\n",
    "data_new = data_new.loc[(data_new['price'] <= max_price) & (data_new['price'] > 1), ]"
   ]
  },
  {
   "cell_type": "code",
   "execution_count": 19,
   "metadata": {},
   "outputs": [
    {
     "data": {
      "image/png": "[encoded data removed]",
      "text/plain": [
       "<Figure size 432x288 with 2 Axes>"
      ]
     },
     "metadata": {},
     "output_type": "display_data"
    }
   ],
   "source": [
    "data_distribution(data_new['cleaning_fee'])\n",
    "max_clean = np.quantile(data_new['cleaning_fee'], 0.99)\n",
    "data_new = data_new.loc[(data_new['cleaning_fee'] <= max_clean) & (data_new['cleaning_fee'] > 1), ]"
   ]
  },
  {
   "cell_type": "code",
   "execution_count": 20,
   "metadata": {
    "scrolled": true
   },
   "outputs": [
    {
     "data": {
      "text/plain": [
       "<matplotlib.axes._subplots.AxesSubplot at 0x1a2e6ae650>"
      ]
     },
     "execution_count": 20,
     "metadata": {},
     "output_type": "execute_result"
    },
    {
     "data": {
      "image/png": "[encoded data removed]",
      "text/plain": [
       "<Figure size 432x288 with 1 Axes>"
      ]
     },
     "metadata": {},
     "output_type": "display_data"
    }
   ],
   "source": [
    "sns.countplot(data_new['minimum_nights'])\n",
    "data_new = data_new.loc[data_new['minimum_nights'] <= 366, ]"
   ]
  },
  {
   "cell_type": "code",
   "execution_count": 21,
   "metadata": {},
   "outputs": [
    {
     "data": {
      "text/plain": [
       "139.0"
      ]
     },
     "execution_count": 21,
     "metadata": {},
     "output_type": "execute_result"
    }
   ],
   "source": [
    "max_listing = np.quantile(data_new['host_total_listings_count'].dropna(), 0.99)\n",
    "max_listing\n",
    "data_new = data_new.loc[data_new['host_total_listings_count'] <= max_listing, ]"
   ]
  },
  {
   "cell_type": "code",
   "execution_count": 22,
   "metadata": {},
   "outputs": [
    {
     "data": {
      "text/plain": [
       "<matplotlib.axes._subplots.AxesSubplot at 0x1a29ac3e10>"
      ]
     },
     "execution_count": 22,
     "metadata": {},
     "output_type": "execute_result"
    },
    {
     "data": {
      "image/png": "[encoded data removed]",
      "text/plain": [
       "<Figure size 432x288 with 1 Axes>"
      ]
     },
     "metadata": {},
     "output_type": "display_data"
    }
   ],
   "source": [
    "sns.countplot(data_new['bedrooms'])\n",
    "data_new = data_new.loc[data_new['bathrooms'] <= 10, ]"
   ]
  },
  {
   "cell_type": "code",
   "execution_count": 23,
   "metadata": {},
   "outputs": [
    {
     "data": {
      "text/plain": [
       "<matplotlib.axes._subplots.AxesSubplot at 0x1a29acd950>"
      ]
     },
     "execution_count": 23,
     "metadata": {},
     "output_type": "execute_result"
    },
    {
     "data": {
      "text/plain": [
       "3.5"
      ]
     },
     "execution_count": 23,
     "metadata": {},
     "output_type": "execute_result"
    },
    {
     "data": {
      "image/png": "[encoded data removed]",
      "text/plain": [
       "<Figure size 432x288 with 1 Axes>"
      ]
     },
     "metadata": {},
     "output_type": "display_data"
    }
   ],
   "source": [
    "sns.countplot(data_new['bathrooms'])\n",
    "max_bath = np.quantile(data_new['bathrooms'].dropna(), 0.99)\n",
    "max_bath\n",
    "data_new = data_new.loc[data_new['bathrooms'] <= max_bath, ]"
   ]
  },
  {
   "cell_type": "code",
   "execution_count": 24,
   "metadata": {
    "scrolled": false
   },
   "outputs": [
    {
     "data": {
      "text/plain": [
       "<matplotlib.axes._subplots.AxesSubplot at 0x1a299bfd50>"
      ]
     },
     "execution_count": 24,
     "metadata": {},
     "output_type": "execute_result"
    },
    {
     "data": {
      "text/plain": [
       "12.0"
      ]
     },
     "execution_count": 24,
     "metadata": {},
     "output_type": "execute_result"
    },
    {
     "data": {
      "image/png": "[encoded data removed]",
      "text/plain": [
       "<Figure size 432x288 with 1 Axes>"
      ]
     },
     "metadata": {},
     "output_type": "display_data"
    }
   ],
   "source": [
    "sns.countplot(data_new['beds'])\n",
    "max_bed = np.quantile(data_new['beds'].dropna(), 0.999)\n",
    "max_bed\n",
    "data_new = data_new.loc[data_new['beds'] <= max_bed, ]\n"
   ]
  },
  {
   "cell_type": "code",
   "execution_count": 25,
   "metadata": {},
   "outputs": [],
   "source": [
    "data_new['bathrooms'].fillna(int(np.mean(data_new['bathrooms'])), inplace=True)  \n",
    "data_new['bedrooms'].fillna(int(np.mean(data_new['bedrooms'])), inplace=True) \n",
    "data_new['beds'].fillna(int(np.mean(data_new['beds'])), inplace=True)  "
   ]
  },
  {
   "cell_type": "code",
   "execution_count": 26,
   "metadata": {},
   "outputs": [
    {
     "data": {
      "text/plain": [
       "<matplotlib.axes._subplots.AxesSubplot at 0x1a2840f0d0>"
      ]
     },
     "execution_count": 26,
     "metadata": {},
     "output_type": "execute_result"
    },
    {
     "data": {
      "image/png": "[encoded data removed]",
      "text/plain": [
       "<Figure size 432x288 with 1 Axes>"
      ]
     },
     "metadata": {},
     "output_type": "display_data"
    }
   ],
   "source": [
    "sns.distplot(data_new[\"price\"])"
   ]
  },
  {
   "cell_type": "code",
   "execution_count": 27,
   "metadata": {},
   "outputs": [
    {
     "data": {
      "text/plain": [
       "<matplotlib.axes._subplots.AxesSubplot at 0x1a28296b50>"
      ]
     },
     "execution_count": 27,
     "metadata": {},
     "output_type": "execute_result"
    },
    {
     "data": {
      "image/png": "[encoded data removed]",
      "text/plain": [
       "<Figure size 432x288 with 1 Axes>"
      ]
     },
     "metadata": {},
     "output_type": "display_data"
    }
   ],
   "source": [
    "sns.distplot(np.log(data_new[\"price\"]))"
   ]
  },
  {
   "cell_type": "code",
   "execution_count": 28,
   "metadata": {},
   "outputs": [
    {
     "data": {
      "text/plain": [
       "id                           False\n",
       "last_scraped                 False\n",
       "host_total_listings_count    False\n",
       "host_identity_verified       False\n",
       "neighbourhood_cleansed       False\n",
       "latitude                     False\n",
       "longitude                    False\n",
       "property_type                 True\n",
       "room_type                    False\n",
       "accommodates                 False\n",
       "bathrooms                    False\n",
       "bedrooms                     False\n",
       "beds                         False\n",
       "bed_type                     False\n",
       "amenities                    False\n",
       "minimum_nights               False\n",
       "cancellation_policy          False\n",
       "is_business_travel_ready      True\n",
       "cleaning_fee                 False\n",
       "price                        False\n",
       "dtype: bool"
      ]
     },
     "execution_count": 28,
     "metadata": {},
     "output_type": "execute_result"
    }
   ],
   "source": [
    "data_new.isnull().any()"
   ]
  },
  {
   "cell_type": "code",
   "execution_count": 29,
   "metadata": {},
   "outputs": [],
   "source": [
    "data_new = data_new.drop(\"is_business_travel_ready\", axis = 1)"
   ]
  },
  {
   "cell_type": "code",
   "execution_count": 30,
   "metadata": {},
   "outputs": [
    {
     "data": {
      "text/plain": [
       "21"
      ]
     },
     "execution_count": 30,
     "metadata": {},
     "output_type": "execute_result"
    }
   ],
   "source": [
    "# Check how many missing values in the property type column\n",
    "sum(data_new[\"property_type\"].isna())"
   ]
  },
  {
   "cell_type": "code",
   "execution_count": 31,
   "metadata": {},
   "outputs": [],
   "source": [
    "#Remove all missing value in property column\n",
    "data_new = data_new.dropna(subset=['property_type'])\n"
   ]
  },
  {
   "cell_type": "markdown",
   "metadata": {},
   "source": [
    "### Now we clean all the missing value"
   ]
  },
  {
   "cell_type": "code",
   "execution_count": 32,
   "metadata": {},
   "outputs": [
    {
     "data": {
      "text/plain": [
       "id                           False\n",
       "last_scraped                 False\n",
       "host_total_listings_count    False\n",
       "host_identity_verified       False\n",
       "neighbourhood_cleansed       False\n",
       "latitude                     False\n",
       "longitude                    False\n",
       "property_type                False\n",
       "room_type                    False\n",
       "accommodates                 False\n",
       "bathrooms                    False\n",
       "bedrooms                     False\n",
       "beds                         False\n",
       "bed_type                     False\n",
       "amenities                    False\n",
       "minimum_nights               False\n",
       "cancellation_policy          False\n",
       "cleaning_fee                 False\n",
       "price                        False\n",
       "dtype: bool"
      ]
     },
     "execution_count": 32,
     "metadata": {},
     "output_type": "execute_result"
    }
   ],
   "source": [
    "#\n",
    "data_new.isnull().any()"
   ]
  },
  {
   "cell_type": "code",
   "execution_count": 33,
   "metadata": {},
   "outputs": [],
   "source": [
    "data = data_new.copy()"
   ]
  },
  {
   "cell_type": "code",
   "execution_count": 139,
   "metadata": {},
   "outputs": [],
   "source": [
    "data = pd.get_dummies(data=data, columns=['room_type', 'bed_type', 'property_type', 'cancellation_policy', 'host_identity_verified', \n",
    "                                          'neighbourhood_cleansed'], dummy_na=True)\n",
    "data = data.drop(['amenities', 'last_scraped'], axis = 1)"
   ]
  },
  {
   "cell_type": "code",
   "execution_count": 150,
   "metadata": {},
   "outputs": [],
   "source": [
    "def split_by_id(df, p):\n",
    "    df_gb_id = data.groupby(['id'])\n",
    "    ids = df_gb_id.groups.keys()\n",
    "    ids = list(ids)\n",
    "    ids = np.array(ids)\n",
    "    n = len(ids)\n",
    "    random_index = np.random.choice(n, int(n * p), replace=False)\n",
    "    test_id = ids[random_index.astype(int)]\n",
    "    train_id = ids[list(set(np.arange(n)) - set(random_index))]\n",
    "    df_train = data.loc[df['id'].isin(train_id)]\n",
    "    df_test = data.loc[df['id'].isin(test_id)]\n",
    "    return df_train, df_test"
   ]
  },
  {
   "cell_type": "code",
   "execution_count": 151,
   "metadata": {},
   "outputs": [],
   "source": [
    "data, test = split_by_id(data, 0.2)"
   ]
  },
  {
   "cell_type": "code",
   "execution_count": 152,
   "metadata": {},
   "outputs": [],
   "source": [
    "train, valid = split_by_id(data, 0.2)"
   ]
  },
  {
   "cell_type": "code",
   "execution_count": 153,
   "metadata": {},
   "outputs": [],
   "source": [
    "valid_high = valid.loc[valid['price'] > 300]\n",
    "valid_low = valid.loc[valid['price'] <= 300]\n",
    "\n",
    "y_valid_high = valid_high[\"price\"]\n",
    "y_valid_low = valid_low[\"price\"]\n",
    "X_valid_high = valid_high.drop(['price'], axis = 1)\n",
    "X_valid_low = valid_low.drop(['price'], axis = 1)\n",
    "\n",
    "test_high = test.loc[test['price'] > 300]\n",
    "test_low = test.loc[test['price'] <= 300]\n",
    "\n",
    "y_test_high = test_high[\"price\"]\n",
    "y_test_low = test_low[\"price\"]\n",
    "X_test_high = test_high.drop(['price'], axis = 1)\n",
    "X_test_low = test_low.drop(['price'], axis = 1)\n",
    "y_test = test[\"price\"]\n",
    "X_test = test.drop(['price'], axis = 1)"
   ]
  },
  {
   "cell_type": "code",
   "execution_count": 154,
   "metadata": {},
   "outputs": [],
   "source": [
    "# split training data into training set and validation set"
   ]
  },
  {
   "cell_type": "code",
   "execution_count": 155,
   "metadata": {},
   "outputs": [],
   "source": [
    "from keras.callbacks import ModelCheckpoint\n",
    "from keras.models import Sequential\n",
    "from keras.layers import Dense, Activation, Flatten\n",
    "from sklearn.model_selection import train_test_split\n",
    "from sklearn.ensemble import RandomForestRegressor\n",
    "from sklearn.metrics import mean_absolute_error \n",
    "from matplotlib import pyplot as plt\n",
    "import seaborn as sb\n",
    "import matplotlib.pyplot as plt\n",
    "import pandas as pd\n",
    "import numpy as np\n",
    "from sklearn.linear_model import Lasso\n",
    "import warnings \n",
    "warnings.filterwarnings('ignore')\n",
    "warnings.filterwarnings('ignore', category=DeprecationWarning)\n",
    "# from xgboost import XGBRegressor\n"
   ]
  },
  {
   "cell_type": "code",
   "execution_count": 156,
   "metadata": {},
   "outputs": [],
   "source": [
    "y_train = train[\"price\"]\n",
    "y_valid = valid[\"price\"]\n",
    "X_train = train.drop(['price'], axis = 1)\n",
    "X_valid = valid.drop(['price'], axis = 1)"
   ]
  },
  {
   "cell_type": "code",
   "execution_count": 157,
   "metadata": {},
   "outputs": [],
   "source": [
    "\n",
    "# X = data.copy()\n",
    "# X_train, X_test, y_train, y_test = train_test_split(X, y, test_size=0.33, random_state=42)\n"
   ]
  },
  {
   "cell_type": "markdown",
   "metadata": {},
   "source": [
    "# Lasso Regression"
   ]
  },
  {
   "cell_type": "code",
   "execution_count": 158,
   "metadata": {
    "scrolled": true
   },
   "outputs": [
    {
     "ename": "ValueError",
     "evalue": "could not convert string to float: 'https://www.airbnb.com/rooms/13883766'",
     "output_type": "error",
     "traceback": [
      "\u001b[0;31m---------------------------------------------------------------------------\u001b[0m",
      "\u001b[0;31mValueError\u001b[0m                                Traceback (most recent call last)",
      "\u001b[0;32m<ipython-input-158-bbde051de30b>\u001b[0m in \u001b[0;36m<module>\u001b[0;34m\u001b[0m\n\u001b[1;32m      1\u001b[0m \u001b[0mlasso\u001b[0m \u001b[0;34m=\u001b[0m \u001b[0mLasso\u001b[0m\u001b[0;34m(\u001b[0m\u001b[0;34m)\u001b[0m\u001b[0;34m\u001b[0m\u001b[0;34m\u001b[0m\u001b[0m\n\u001b[0;32m----> 2\u001b[0;31m \u001b[0mlasso\u001b[0m\u001b[0;34m.\u001b[0m\u001b[0mfit\u001b[0m\u001b[0;34m(\u001b[0m\u001b[0mX_train\u001b[0m\u001b[0;34m,\u001b[0m\u001b[0my_train\u001b[0m\u001b[0;34m)\u001b[0m\u001b[0;34m\u001b[0m\u001b[0;34m\u001b[0m\u001b[0m\n\u001b[0m\u001b[1;32m      3\u001b[0m \u001b[0mtrain_score\u001b[0m\u001b[0;34m=\u001b[0m\u001b[0mlasso\u001b[0m\u001b[0;34m.\u001b[0m\u001b[0mscore\u001b[0m\u001b[0;34m(\u001b[0m\u001b[0mX_train\u001b[0m\u001b[0;34m,\u001b[0m\u001b[0my_train\u001b[0m\u001b[0;34m)\u001b[0m\u001b[0;34m\u001b[0m\u001b[0;34m\u001b[0m\u001b[0m\n\u001b[1;32m      4\u001b[0m \u001b[0mtest_score\u001b[0m\u001b[0;34m=\u001b[0m\u001b[0mlasso\u001b[0m\u001b[0;34m.\u001b[0m\u001b[0mscore\u001b[0m\u001b[0;34m(\u001b[0m\u001b[0mX_valid\u001b[0m\u001b[0;34m,\u001b[0m\u001b[0my_valid\u001b[0m\u001b[0;34m)\u001b[0m\u001b[0;34m\u001b[0m\u001b[0;34m\u001b[0m\u001b[0m\n\u001b[1;32m      5\u001b[0m \u001b[0mcoeff_used\u001b[0m \u001b[0;34m=\u001b[0m \u001b[0mnp\u001b[0m\u001b[0;34m.\u001b[0m\u001b[0msum\u001b[0m\u001b[0;34m(\u001b[0m\u001b[0mlasso\u001b[0m\u001b[0;34m.\u001b[0m\u001b[0mcoef_\u001b[0m\u001b[0;34m!=\u001b[0m\u001b[0;36m0\u001b[0m\u001b[0;34m)\u001b[0m\u001b[0;34m\u001b[0m\u001b[0;34m\u001b[0m\u001b[0m\n",
      "\u001b[0;32m/opt/anaconda3/lib/python3.7/site-packages/sklearn/linear_model/coordinate_descent.py\u001b[0m in \u001b[0;36mfit\u001b[0;34m(self, X, y, check_input)\u001b[0m\n\u001b[1;32m    701\u001b[0m             X, y = check_X_y(X, y, accept_sparse='csc',\n\u001b[1;32m    702\u001b[0m                              \u001b[0morder\u001b[0m\u001b[0;34m=\u001b[0m\u001b[0;34m'F'\u001b[0m\u001b[0;34m,\u001b[0m \u001b[0mdtype\u001b[0m\u001b[0;34m=\u001b[0m\u001b[0;34m[\u001b[0m\u001b[0mnp\u001b[0m\u001b[0;34m.\u001b[0m\u001b[0mfloat64\u001b[0m\u001b[0;34m,\u001b[0m \u001b[0mnp\u001b[0m\u001b[0;34m.\u001b[0m\u001b[0mfloat32\u001b[0m\u001b[0;34m]\u001b[0m\u001b[0;34m,\u001b[0m\u001b[0;34m\u001b[0m\u001b[0;34m\u001b[0m\u001b[0m\n\u001b[0;32m--> 703\u001b[0;31m                              copy=X_copied, multi_output=True, y_numeric=True)\n\u001b[0m\u001b[1;32m    704\u001b[0m             y = check_array(y, order='F', copy=False, dtype=X.dtype.type,\n\u001b[1;32m    705\u001b[0m                             ensure_2d=False)\n",
      "\u001b[0;32m/opt/anaconda3/lib/python3.7/site-packages/sklearn/utils/validation.py\u001b[0m in \u001b[0;36mcheck_X_y\u001b[0;34m(X, y, accept_sparse, accept_large_sparse, dtype, order, copy, force_all_finite, ensure_2d, allow_nd, multi_output, ensure_min_samples, ensure_min_features, y_numeric, warn_on_dtype, estimator)\u001b[0m\n\u001b[1;32m    717\u001b[0m                     \u001b[0mensure_min_features\u001b[0m\u001b[0;34m=\u001b[0m\u001b[0mensure_min_features\u001b[0m\u001b[0;34m,\u001b[0m\u001b[0;34m\u001b[0m\u001b[0;34m\u001b[0m\u001b[0m\n\u001b[1;32m    718\u001b[0m                     \u001b[0mwarn_on_dtype\u001b[0m\u001b[0;34m=\u001b[0m\u001b[0mwarn_on_dtype\u001b[0m\u001b[0;34m,\u001b[0m\u001b[0;34m\u001b[0m\u001b[0;34m\u001b[0m\u001b[0m\n\u001b[0;32m--> 719\u001b[0;31m                     estimator=estimator)\n\u001b[0m\u001b[1;32m    720\u001b[0m     \u001b[0;32mif\u001b[0m \u001b[0mmulti_output\u001b[0m\u001b[0;34m:\u001b[0m\u001b[0;34m\u001b[0m\u001b[0;34m\u001b[0m\u001b[0m\n\u001b[1;32m    721\u001b[0m         y = check_array(y, 'csr', force_all_finite=True, ensure_2d=False,\n",
      "\u001b[0;32m/opt/anaconda3/lib/python3.7/site-packages/sklearn/utils/validation.py\u001b[0m in \u001b[0;36mcheck_array\u001b[0;34m(array, accept_sparse, accept_large_sparse, dtype, order, copy, force_all_finite, ensure_2d, allow_nd, ensure_min_samples, ensure_min_features, warn_on_dtype, estimator)\u001b[0m\n\u001b[1;32m    494\u001b[0m             \u001b[0;32mtry\u001b[0m\u001b[0;34m:\u001b[0m\u001b[0;34m\u001b[0m\u001b[0;34m\u001b[0m\u001b[0m\n\u001b[1;32m    495\u001b[0m                 \u001b[0mwarnings\u001b[0m\u001b[0;34m.\u001b[0m\u001b[0msimplefilter\u001b[0m\u001b[0;34m(\u001b[0m\u001b[0;34m'error'\u001b[0m\u001b[0;34m,\u001b[0m \u001b[0mComplexWarning\u001b[0m\u001b[0;34m)\u001b[0m\u001b[0;34m\u001b[0m\u001b[0;34m\u001b[0m\u001b[0m\n\u001b[0;32m--> 496\u001b[0;31m                 \u001b[0marray\u001b[0m \u001b[0;34m=\u001b[0m \u001b[0mnp\u001b[0m\u001b[0;34m.\u001b[0m\u001b[0masarray\u001b[0m\u001b[0;34m(\u001b[0m\u001b[0marray\u001b[0m\u001b[0;34m,\u001b[0m \u001b[0mdtype\u001b[0m\u001b[0;34m=\u001b[0m\u001b[0mdtype\u001b[0m\u001b[0;34m,\u001b[0m \u001b[0morder\u001b[0m\u001b[0;34m=\u001b[0m\u001b[0morder\u001b[0m\u001b[0;34m)\u001b[0m\u001b[0;34m\u001b[0m\u001b[0;34m\u001b[0m\u001b[0m\n\u001b[0m\u001b[1;32m    497\u001b[0m             \u001b[0;32mexcept\u001b[0m \u001b[0mComplexWarning\u001b[0m\u001b[0;34m:\u001b[0m\u001b[0;34m\u001b[0m\u001b[0;34m\u001b[0m\u001b[0m\n\u001b[1;32m    498\u001b[0m                 raise ValueError(\"Complex data not supported\\n\"\n",
      "\u001b[0;32m/opt/anaconda3/lib/python3.7/site-packages/numpy/core/_asarray.py\u001b[0m in \u001b[0;36masarray\u001b[0;34m(a, dtype, order)\u001b[0m\n\u001b[1;32m     83\u001b[0m \u001b[0;34m\u001b[0m\u001b[0m\n\u001b[1;32m     84\u001b[0m     \"\"\"\n\u001b[0;32m---> 85\u001b[0;31m     \u001b[0;32mreturn\u001b[0m \u001b[0marray\u001b[0m\u001b[0;34m(\u001b[0m\u001b[0ma\u001b[0m\u001b[0;34m,\u001b[0m \u001b[0mdtype\u001b[0m\u001b[0;34m,\u001b[0m \u001b[0mcopy\u001b[0m\u001b[0;34m=\u001b[0m\u001b[0;32mFalse\u001b[0m\u001b[0;34m,\u001b[0m \u001b[0morder\u001b[0m\u001b[0;34m=\u001b[0m\u001b[0morder\u001b[0m\u001b[0;34m)\u001b[0m\u001b[0;34m\u001b[0m\u001b[0;34m\u001b[0m\u001b[0m\n\u001b[0m\u001b[1;32m     86\u001b[0m \u001b[0;34m\u001b[0m\u001b[0m\n\u001b[1;32m     87\u001b[0m \u001b[0;34m\u001b[0m\u001b[0m\n",
      "\u001b[0;31mValueError\u001b[0m: could not convert string to float: 'https://www.airbnb.com/rooms/13883766'"
     ]
    }
   ],
   "source": [
    "lasso = Lasso()\n",
    "lasso.fit(X_train,y_train)\n",
    "train_score=lasso.score(X_train,y_train)\n",
    "test_score=lasso.score(X_valid,y_valid)\n",
    "coeff_used = np.sum(lasso.coef_!=0)\n",
    "print (\"training score:\", train_score )\n",
    "print ( \"test score: \", test_score)\n",
    "print (\"number of features used: \", coeff_used)\n",
    "coef = pd.Series(lasso.coef_, index = X_train.columns)\n",
    "coef.sort_index()"
   ]
  },
  {
   "cell_type": "code",
   "execution_count": 190,
   "metadata": {},
   "outputs": [
    {
     "name": "stdout",
     "output_type": "stream",
     "text": [
      "_________________________________________________________________\n",
      "Layer (type)                 Output Shape              Param #   \n",
      "=================================================================\n",
      "dense_9 (Dense)              (None, 256)               28160     \n",
      "_________________________________________________________________\n",
      "dense_10 (Dense)             (None, 128)               32896     \n",
      "_________________________________________________________________\n",
      "dense_11 (Dense)             (None, 64)                8256      \n",
      "_________________________________________________________________\n",
      "dense_12 (Dense)             (None, 1)                 65        \n",
      "=================================================================\n",
      "Total params: 69,377\n",
      "Trainable params: 69,377\n",
      "Non-trainable params: 0\n",
      "_________________________________________________________________\n"
     ]
    }
   ],
   "source": [
    "# train neural network regressors\n",
    "NN_model = Sequential()\n",
    "\n",
    "# The Input Layer :\n",
    "NN_model.add(Dense(256, kernel_initializer='normal',input_dim = X_train.shape[1], activation='relu'))\n",
    "\n",
    "# The Hidden Layers :\n",
    "NN_model.add(Dense(128, kernel_initializer='normal',activation='relu'))\n",
    "NN_model.add(Dense(64, kernel_initializer='normal',activation='relu'))\n",
    "\n",
    "# The Output Layer :\n",
    "NN_model.add(Dense(1, kernel_initializer='normal',activation='linear'))\n",
    "\n",
    "# Compile the network :\n",
    "NN_model.compile(loss='mean_absolute_error', optimizer='adam', metrics=['mean_absolute_error'])\n",
    "NN_model.summary()"
   ]
  },
  {
   "cell_type": "code",
   "execution_count": 191,
   "metadata": {},
   "outputs": [
    {
     "name": "stdout",
     "output_type": "stream",
     "text": [
      "Epoch 1/8\n",
      "137684/137684 [==============================] - 7s 51us/step - loss: 448.4776 - mean_absolute_error: 448.4776\n",
      "Epoch 2/8\n",
      "137684/137684 [==============================] - 7s 47us/step - loss: 168.8637 - mean_absolute_error: 168.8637\n",
      "Epoch 3/8\n",
      "137684/137684 [==============================] - 7s 48us/step - loss: 210.6308 - mean_absolute_error: 210.6308\n",
      "Epoch 4/8\n",
      "137684/137684 [==============================] - 6s 47us/step - loss: 117.1734 - mean_absolute_error: 117.1734\n",
      "Epoch 5/8\n",
      "137684/137684 [==============================] - 6s 45us/step - loss: 105.3981 - mean_absolute_error: 105.3981\n",
      "Epoch 6/8\n",
      "137684/137684 [==============================] - 7s 48us/step - loss: 105.3950 - mean_absolute_error: 105.3950\n",
      "Epoch 7/8\n",
      "137684/137684 [==============================] - 6s 47us/step - loss: 105.3889 - mean_absolute_error: 105.3889\n",
      "Epoch 8/8\n",
      "137684/137684 [==============================] - 6s 47us/step - loss: 105.3914 - mean_absolute_error: 105.3914\n"
     ]
    }
   ],
   "source": [
    "history = NN_model.fit(X_train, y_train, epochs=8)\n"
   ]
  },
  {
   "cell_type": "code",
   "execution_count": 192,
   "metadata": {},
   "outputs": [
    {
     "data": {
      "text/plain": [
       "100.92362884845285"
      ]
     },
     "execution_count": 192,
     "metadata": {},
     "output_type": "execute_result"
    }
   ],
   "source": [
    "prediction = NN_model.predict(X_valid, batch_size=None, verbose=0, steps=None)\n",
    "mean_absolute_error(prediction, y_valid)"
   ]
  },
  {
   "cell_type": "markdown",
   "metadata": {},
   "source": [
    "# Random Forest Regression"
   ]
  },
  {
   "cell_type": "code",
   "execution_count": 193,
   "metadata": {},
   "outputs": [
    {
     "data": {
      "text/plain": [
       "RandomForestRegressor(bootstrap=True, criterion='mse', max_depth=8,\n",
       "           max_features='auto', max_leaf_nodes=None,\n",
       "           min_impurity_decrease=0.0, min_impurity_split=None,\n",
       "           min_samples_leaf=1, min_samples_split=2,\n",
       "           min_weight_fraction_leaf=0.0, n_estimators=10, n_jobs=None,\n",
       "           oob_score=False, random_state=233, verbose=0, warm_start=False)"
      ]
     },
     "execution_count": 193,
     "metadata": {},
     "output_type": "execute_result"
    }
   ],
   "source": [
    "from sklearn.datasets import make_regression\n",
    "base_rf = RandomForestRegressor(max_depth=8, random_state=233, n_estimators=10, criterion='mse')\n",
    "base_rf.fit(X_train, y_train)"
   ]
  },
  {
   "cell_type": "code",
   "execution_count": 194,
   "metadata": {},
   "outputs": [
    {
     "name": "stdout",
     "output_type": "stream",
     "text": [
      "base rf training R^2 0.6967249947820731\n",
      "base rf training MAE 56.18802832612665\n"
     ]
    }
   ],
   "source": [
    "base_train_prediction = base_rf.predict(X_train)\n",
    "print(\"base rf training R^2\", base_rf.score(X_train, y_train, sample_weight=None))\n",
    "print(\"base rf training MAE\", mean_absolute_error(base_train_prediction, y_train))"
   ]
  },
  {
   "cell_type": "code",
   "execution_count": 195,
   "metadata": {},
   "outputs": [
    {
     "name": "stdout",
     "output_type": "stream",
     "text": [
      "base rf validation R^2 0.4935129108120119\n",
      "base rf validation MAE 63.27259310231554\n"
     ]
    }
   ],
   "source": [
    "base_valid_prediction = base_rf.predict(X_valid)\n",
    "print(\"base rf validation R^2\", base_rf.score(X_valid, y_valid, sample_weight=None))\n",
    "print(\"base rf validation MAE\", mean_absolute_error(base_valid_prediction, y_valid))"
   ]
  },
  {
   "cell_type": "code",
   "execution_count": 196,
   "metadata": {},
   "outputs": [
    {
     "name": "stdout",
     "output_type": "stream",
     "text": [
      "base rf validation for prices > 300 R^2 -0.3235263538396469\n",
      "base rf validation for prices > 300 MAE 176.9187104380768\n"
     ]
    }
   ],
   "source": [
    "base_valid_high = base_rf.predict(X_valid_high)\n",
    "print(\"base rf validation for prices > 300 R^2\", base_rf.score(X_valid_high, y_valid_high, sample_weight=None))\n",
    "print(\"base rf validation for prices > 300 MAE\", mean_absolute_error(base_valid_high, y_valid_high))"
   ]
  },
  {
   "cell_type": "code",
   "execution_count": 197,
   "metadata": {},
   "outputs": [
    {
     "name": "stdout",
     "output_type": "stream",
     "text": [
      "base rf validation for prices <= 300 R^2 0.18475686109224\n",
      "base rf validation for prices <= 300 MAE 43.03228153730547\n"
     ]
    }
   ],
   "source": [
    "base_valid_low = base_rf.predict(X_valid_low)\n",
    "print(\"base rf validation for prices <= 300 R^2\", base_rf.score(X_valid_low, y_valid_low, sample_weight=None))\n",
    "print(\"base rf validation for prices <= 300 MAE\", mean_absolute_error(base_valid_low, y_valid_low))"
   ]
  },
  {
   "cell_type": "code",
   "execution_count": 198,
   "metadata": {
    "scrolled": true
   },
   "outputs": [
    {
     "data": {
      "text/html": [
       "<div>\n",
       "<style scoped>\n",
       "    .dataframe tbody tr th:only-of-type {\n",
       "        vertical-align: middle;\n",
       "    }\n",
       "\n",
       "    .dataframe tbody tr th {\n",
       "        vertical-align: top;\n",
       "    }\n",
       "\n",
       "    .dataframe thead th {\n",
       "        text-align: right;\n",
       "    }\n",
       "</style>\n",
       "<table border=\"1\" class=\"dataframe\">\n",
       "  <thead>\n",
       "    <tr style=\"text-align: right;\">\n",
       "      <th></th>\n",
       "      <th>importance</th>\n",
       "    </tr>\n",
       "  </thead>\n",
       "  <tbody>\n",
       "    <tr>\n",
       "      <th>bedrooms</th>\n",
       "      <td>0.493942</td>\n",
       "    </tr>\n",
       "    <tr>\n",
       "      <th>latitude</th>\n",
       "      <td>0.111949</td>\n",
       "    </tr>\n",
       "    <tr>\n",
       "      <th>bathrooms</th>\n",
       "      <td>0.102956</td>\n",
       "    </tr>\n",
       "    <tr>\n",
       "      <th>cleaning_fee</th>\n",
       "      <td>0.059128</td>\n",
       "    </tr>\n",
       "    <tr>\n",
       "      <th>room_type_Entire home/apt</th>\n",
       "      <td>0.047172</td>\n",
       "    </tr>\n",
       "    <tr>\n",
       "      <th>longitude</th>\n",
       "      <td>0.037614</td>\n",
       "    </tr>\n",
       "    <tr>\n",
       "      <th>accommodates</th>\n",
       "      <td>0.034519</td>\n",
       "    </tr>\n",
       "    <tr>\n",
       "      <th>minimum_nights</th>\n",
       "      <td>0.026603</td>\n",
       "    </tr>\n",
       "    <tr>\n",
       "      <th>id</th>\n",
       "      <td>0.026408</td>\n",
       "    </tr>\n",
       "    <tr>\n",
       "      <th>neighbourhood_cleansed_Inner Sunset</th>\n",
       "      <td>0.008167</td>\n",
       "    </tr>\n",
       "    <tr>\n",
       "      <th>cancellation_policy_flexible</th>\n",
       "      <td>0.007428</td>\n",
       "    </tr>\n",
       "    <tr>\n",
       "      <th>beds</th>\n",
       "      <td>0.005177</td>\n",
       "    </tr>\n",
       "    <tr>\n",
       "      <th>host_total_listings_count</th>\n",
       "      <td>0.004728</td>\n",
       "    </tr>\n",
       "    <tr>\n",
       "      <th>neighbourhood_cleansed_Potrero Hill</th>\n",
       "      <td>0.004232</td>\n",
       "    </tr>\n",
       "    <tr>\n",
       "      <th>property_type_Loft</th>\n",
       "      <td>0.002904</td>\n",
       "    </tr>\n",
       "    <tr>\n",
       "      <th>neighbourhood_cleansed_Glen Park</th>\n",
       "      <td>0.002634</td>\n",
       "    </tr>\n",
       "    <tr>\n",
       "      <th>neighbourhood_cleansed_Noe Valley</th>\n",
       "      <td>0.002587</td>\n",
       "    </tr>\n",
       "    <tr>\n",
       "      <th>room_type_Shared room</th>\n",
       "      <td>0.002493</td>\n",
       "    </tr>\n",
       "    <tr>\n",
       "      <th>neighbourhood_cleansed_Excelsior</th>\n",
       "      <td>0.002016</td>\n",
       "    </tr>\n",
       "    <tr>\n",
       "      <th>property_type_Apartment</th>\n",
       "      <td>0.001999</td>\n",
       "    </tr>\n",
       "    <tr>\n",
       "      <th>neighbourhood_cleansed_Mission</th>\n",
       "      <td>0.001605</td>\n",
       "    </tr>\n",
       "    <tr>\n",
       "      <th>neighbourhood_cleansed_Russian Hill</th>\n",
       "      <td>0.001394</td>\n",
       "    </tr>\n",
       "    <tr>\n",
       "      <th>host_identity_verified_f</th>\n",
       "      <td>0.001085</td>\n",
       "    </tr>\n",
       "    <tr>\n",
       "      <th>neighbourhood_cleansed_Castro/Upper Market</th>\n",
       "      <td>0.001063</td>\n",
       "    </tr>\n",
       "    <tr>\n",
       "      <th>room_type_Private room</th>\n",
       "      <td>0.000940</td>\n",
       "    </tr>\n",
       "    <tr>\n",
       "      <th>neighbourhood_cleansed_Western Addition</th>\n",
       "      <td>0.000912</td>\n",
       "    </tr>\n",
       "    <tr>\n",
       "      <th>host_identity_verified_t</th>\n",
       "      <td>0.000678</td>\n",
       "    </tr>\n",
       "    <tr>\n",
       "      <th>neighbourhood_cleansed_Haight Ashbury</th>\n",
       "      <td>0.000671</td>\n",
       "    </tr>\n",
       "    <tr>\n",
       "      <th>neighbourhood_cleansed_Bernal Heights</th>\n",
       "      <td>0.000650</td>\n",
       "    </tr>\n",
       "    <tr>\n",
       "      <th>neighbourhood_cleansed_Marina</th>\n",
       "      <td>0.000596</td>\n",
       "    </tr>\n",
       "    <tr>\n",
       "      <th>neighbourhood_cleansed_Nob Hill</th>\n",
       "      <td>0.000496</td>\n",
       "    </tr>\n",
       "    <tr>\n",
       "      <th>property_type_Bed and breakfast</th>\n",
       "      <td>0.000489</td>\n",
       "    </tr>\n",
       "    <tr>\n",
       "      <th>property_type_Condominium</th>\n",
       "      <td>0.000452</td>\n",
       "    </tr>\n",
       "    <tr>\n",
       "      <th>neighbourhood_cleansed_Pacific Heights</th>\n",
       "      <td>0.000440</td>\n",
       "    </tr>\n",
       "    <tr>\n",
       "      <th>neighbourhood_cleansed_Financial District</th>\n",
       "      <td>0.000439</td>\n",
       "    </tr>\n",
       "    <tr>\n",
       "      <th>cancellation_policy_moderate</th>\n",
       "      <td>0.000393</td>\n",
       "    </tr>\n",
       "    <tr>\n",
       "      <th>neighbourhood_cleansed_Seacliff</th>\n",
       "      <td>0.000366</td>\n",
       "    </tr>\n",
       "    <tr>\n",
       "      <th>cancellation_policy_strict_14_with_grace_period</th>\n",
       "      <td>0.000348</td>\n",
       "    </tr>\n",
       "    <tr>\n",
       "      <th>neighbourhood_cleansed_Outer Sunset</th>\n",
       "      <td>0.000299</td>\n",
       "    </tr>\n",
       "    <tr>\n",
       "      <th>neighbourhood_cleansed_Downtown/Civic Center</th>\n",
       "      <td>0.000280</td>\n",
       "    </tr>\n",
       "    <tr>\n",
       "      <th>bed_type_Futon</th>\n",
       "      <td>0.000274</td>\n",
       "    </tr>\n",
       "    <tr>\n",
       "      <th>bed_type_Couch</th>\n",
       "      <td>0.000228</td>\n",
       "    </tr>\n",
       "    <tr>\n",
       "      <th>property_type_House</th>\n",
       "      <td>0.000224</td>\n",
       "    </tr>\n",
       "    <tr>\n",
       "      <th>neighbourhood_cleansed_Outer Mission</th>\n",
       "      <td>0.000189</td>\n",
       "    </tr>\n",
       "    <tr>\n",
       "      <th>property_type_Resort</th>\n",
       "      <td>0.000184</td>\n",
       "    </tr>\n",
       "    <tr>\n",
       "      <th>neighbourhood_cleansed_Outer Richmond</th>\n",
       "      <td>0.000145</td>\n",
       "    </tr>\n",
       "    <tr>\n",
       "      <th>cancellation_policy_strict</th>\n",
       "      <td>0.000132</td>\n",
       "    </tr>\n",
       "    <tr>\n",
       "      <th>neighbourhood_cleansed_South of Market</th>\n",
       "      <td>0.000084</td>\n",
       "    </tr>\n",
       "    <tr>\n",
       "      <th>neighbourhood_cleansed_Presidio</th>\n",
       "      <td>0.000084</td>\n",
       "    </tr>\n",
       "    <tr>\n",
       "      <th>property_type_Serviced apartment</th>\n",
       "      <td>0.000053</td>\n",
       "    </tr>\n",
       "  </tbody>\n",
       "</table>\n",
       "</div>"
      ],
      "text/plain": [
       "                                                 importance\n",
       "bedrooms                                           0.493942\n",
       "latitude                                           0.111949\n",
       "bathrooms                                          0.102956\n",
       "cleaning_fee                                       0.059128\n",
       "room_type_Entire home/apt                          0.047172\n",
       "longitude                                          0.037614\n",
       "accommodates                                       0.034519\n",
       "minimum_nights                                     0.026603\n",
       "id                                                 0.026408\n",
       "neighbourhood_cleansed_Inner Sunset                0.008167\n",
       "cancellation_policy_flexible                       0.007428\n",
       "beds                                               0.005177\n",
       "host_total_listings_count                          0.004728\n",
       "neighbourhood_cleansed_Potrero Hill                0.004232\n",
       "property_type_Loft                                 0.002904\n",
       "neighbourhood_cleansed_Glen Park                   0.002634\n",
       "neighbourhood_cleansed_Noe Valley                  0.002587\n",
       "room_type_Shared room                              0.002493\n",
       "neighbourhood_cleansed_Excelsior                   0.002016\n",
       "property_type_Apartment                            0.001999\n",
       "neighbourhood_cleansed_Mission                     0.001605\n",
       "neighbourhood_cleansed_Russian Hill                0.001394\n",
       "host_identity_verified_f                           0.001085\n",
       "neighbourhood_cleansed_Castro/Upper Market         0.001063\n",
       "room_type_Private room                             0.000940\n",
       "neighbourhood_cleansed_Western Addition            0.000912\n",
       "host_identity_verified_t                           0.000678\n",
       "neighbourhood_cleansed_Haight Ashbury              0.000671\n",
       "neighbourhood_cleansed_Bernal Heights              0.000650\n",
       "neighbourhood_cleansed_Marina                      0.000596\n",
       "neighbourhood_cleansed_Nob Hill                    0.000496\n",
       "property_type_Bed and breakfast                    0.000489\n",
       "property_type_Condominium                          0.000452\n",
       "neighbourhood_cleansed_Pacific Heights             0.000440\n",
       "neighbourhood_cleansed_Financial District          0.000439\n",
       "cancellation_policy_moderate                       0.000393\n",
       "neighbourhood_cleansed_Seacliff                    0.000366\n",
       "cancellation_policy_strict_14_with_grace_period    0.000348\n",
       "neighbourhood_cleansed_Outer Sunset                0.000299\n",
       "neighbourhood_cleansed_Downtown/Civic Center       0.000280\n",
       "bed_type_Futon                                     0.000274\n",
       "bed_type_Couch                                     0.000228\n",
       "property_type_House                                0.000224\n",
       "neighbourhood_cleansed_Outer Mission               0.000189\n",
       "property_type_Resort                               0.000184\n",
       "neighbourhood_cleansed_Outer Richmond              0.000145\n",
       "cancellation_policy_strict                         0.000132\n",
       "neighbourhood_cleansed_South of Market             0.000084\n",
       "neighbourhood_cleansed_Presidio                    0.000084\n",
       "property_type_Serviced apartment                   0.000053"
      ]
     },
     "execution_count": 198,
     "metadata": {},
     "output_type": "execute_result"
    }
   ],
   "source": [
    "feature_importances = pd.DataFrame(base_rf.feature_importances_,\n",
    "                                   index = X_train.columns,\n",
    "                                    columns=['importance']).sort_values('importance', ascending=False)\n",
    "feature_importances[:50]"
   ]
  },
  {
   "cell_type": "code",
   "execution_count": 199,
   "metadata": {
    "scrolled": false
   },
   "outputs": [
    {
     "name": "stdout",
     "output_type": "stream",
     "text": [
      "{'bootstrap': [True, False],\n",
      " 'max_depth': [None],\n",
      " 'max_features': ['auto', 'sqrt'],\n",
      " 'min_samples_leaf': [10, 20, 30, 40, 50, 60, 70, 80, 90, 100],\n",
      " 'n_estimators': [400]}\n"
     ]
    }
   ],
   "source": [
    "from sklearn.model_selection import RandomizedSearchCV\n",
    "from pprint import pprint\n",
    "\n",
    "# Number of trees in random forest\n",
    "n_estimators = [int(x) for x in np.linspace(start = 400, stop = 400, num = 1)]\n",
    "# Number of features to consider at every split\n",
    "max_features = ['auto', 'sqrt']\n",
    "# Maximum number of levels in tree\n",
    "max_depth = []\n",
    "max_depth.append(None)\n",
    "# Minimum number of samples required to split a node\n",
    "\n",
    "# Minimum number of samples required at each leaf node\n",
    "min_samples_leaf = [int(x) for x in np.linspace(10, 100, num = 10)]\n",
    "# min_samples_split = min_samples_leaf * 1.5\n",
    "\n",
    "# Method of selecting samples for training each tree\n",
    "bootstrap = [True, False]\n",
    "# Create the random grid\n",
    "random_grid = {'n_estimators': n_estimators,\n",
    "               'max_features': max_features,\n",
    "               'max_depth': max_depth,\n",
    "#                'min_samples_split': min_samples_split,\n",
    "               'min_samples_leaf': min_samples_leaf,\n",
    "               'bootstrap': bootstrap}\n",
    "pprint(random_grid)"
   ]
  },
  {
   "cell_type": "markdown",
   "metadata": {},
   "source": [
    "Manually iterate through some hyperparameters"
   ]
  },
  {
   "cell_type": "code",
   "execution_count": 200,
   "metadata": {},
   "outputs": [],
   "source": [
    "# best_min_mae = 0\n",
    "# best_min_score = 0\n",
    "# best_mae = 1000\n",
    "# best_score = -1\n",
    "# for i in min_samples_leaf:\n",
    "#     base_rf = RandomForestRegressor(random_state=233, n_estimators=400, criterion = 'mae', min_samples_leaf = i, min_samples_split = int(i * 1.5))\n",
    "#     base_rf.fit(X_train, y_train)\n",
    "#     score =  base_rf.score(X_valid, y_valid, sample_weight=None)\n",
    "#     mae = mean_absolute_error(base_rf.predict(X_valid), y_valid)\n",
    "#     if mae < best_mae:\n",
    "#         best_min_mae = i\n",
    "#         best_mae = mae\n",
    "#     if score > best_score:\n",
    "#         best_min_score = i\n",
    "#         best_score = score\n",
    "# print(best_min_score)"
   ]
  },
  {
   "cell_type": "markdown",
   "metadata": {},
   "source": [
    "# search for best parameter (takes 10 hours )"
   ]
  },
  {
   "cell_type": "code",
   "execution_count": 201,
   "metadata": {},
   "outputs": [],
   "source": [
    "#rf_random = RandomizedSearchCV(estimator = RandomForestRegressor(), param_distributions = random_grid, n_iter = 100, cv = 3, verbose=2, random_state=42, n_jobs = -1)\n",
    "# Fit the random search model\n",
    "#rf_random.fit(X_train, y_train)\n"
   ]
  },
  {
   "cell_type": "code",
   "execution_count": 202,
   "metadata": {
    "scrolled": false
   },
   "outputs": [],
   "source": [
    "#rf_random.best_params_"
   ]
  },
  {
   "cell_type": "markdown",
   "metadata": {},
   "source": [
    "# Without feature selection"
   ]
  },
  {
   "cell_type": "code",
   "execution_count": 203,
   "metadata": {},
   "outputs": [
    {
     "data": {
      "text/plain": [
       "RandomForestRegressor(bootstrap=True, criterion='mse', max_depth=None,\n",
       "           max_features='auto', max_leaf_nodes=None,\n",
       "           min_impurity_decrease=0.0, min_impurity_split=None,\n",
       "           min_samples_leaf=20, min_samples_split=30,\n",
       "           min_weight_fraction_leaf=0.0, n_estimators=500, n_jobs=None,\n",
       "           oob_score=False, random_state=None, verbose=0, warm_start=False)"
      ]
     },
     "execution_count": 203,
     "metadata": {},
     "output_type": "execute_result"
    },
    {
     "name": "stdout",
     "output_type": "stream",
     "text": [
      "best rf training R^2 0.8731475072731446\n",
      "best rf training MAE 26.017196468362762\n"
     ]
    }
   ],
   "source": [
    "best_rf= RandomForestRegressor(n_estimators= 500,min_samples_split=30,min_samples_leaf= 20,max_features= 'auto',\n",
    "                               max_depth= None,bootstrap= True) \n",
    "best_rf.fit(X_train, y_train)\n",
    "best_train_prediction = best_rf.predict(X_train)\n",
    "print(\"best rf training R^2\", best_rf.score(X_train, y_train, sample_weight=None))\n",
    "print(\"best rf training MAE\", mean_absolute_error(best_train_prediction, y_train))"
   ]
  },
  {
   "cell_type": "code",
   "execution_count": 204,
   "metadata": {},
   "outputs": [
    {
     "name": "stdout",
     "output_type": "stream",
     "text": [
      "best rf validation R^2 0.4994483382236842\n",
      "best rf validation MAE 61.685649243250516\n"
     ]
    }
   ],
   "source": [
    "best_valid_prediction = best_rf.predict(X_valid)\n",
    "print(\"best rf validation R^2\", best_rf.score(X_valid, y_valid, sample_weight=None))\n",
    "print(\"best rf validation MAE\", mean_absolute_error(best_valid_prediction, y_valid))"
   ]
  },
  {
   "cell_type": "code",
   "execution_count": 210,
   "metadata": {},
   "outputs": [
    {
     "data": {
      "text/plain": [
       "26.017196468362762"
      ]
     },
     "execution_count": 210,
     "metadata": {},
     "output_type": "execute_result"
    }
   ],
   "source": [
    "pre = best_rf.predict(X_train)\n",
    "mean_absolute_error(pre, y_train)"
   ]
  },
  {
   "cell_type": "code",
   "execution_count": 211,
   "metadata": {},
   "outputs": [
    {
     "data": {
      "text/plain": [
       "61.685649243250516"
      ]
     },
     "execution_count": 211,
     "metadata": {},
     "output_type": "execute_result"
    }
   ],
   "source": [
    "pre = best_rf.predict(X_valid)\n",
    "mean_absolute_error(pre, y_valid)"
   ]
  },
  {
   "cell_type": "code",
   "execution_count": 212,
   "metadata": {},
   "outputs": [
    {
     "name": "stdout",
     "output_type": "stream",
     "text": [
      "base rf validation for prices > 300 R^2 -0.29309343155716316\n",
      "base rf validation for prices > 300 MAE 174.5463187439286\n"
     ]
    }
   ],
   "source": [
    "best_valid_high = best_rf.predict(X_valid_high)\n",
    "print(\"base rf validation for prices > 300 R^2\", best_rf.score(X_valid_high, y_valid_high, sample_weight=None))\n",
    "print(\"base rf validation for prices > 300 MAE\", mean_absolute_error(best_valid_high, y_valid_high))"
   ]
  },
  {
   "cell_type": "code",
   "execution_count": 213,
   "metadata": {},
   "outputs": [
    {
     "name": "stdout",
     "output_type": "stream",
     "text": [
      "base rf validation for prices <= 300 R^2 0.16254599824645255\n",
      "base rf validation for prices <= 300 MAE 41.585225509631805\n"
     ]
    }
   ],
   "source": [
    "best_valid_low = best_rf.predict(X_valid_low)\n",
    "print(\"base rf validation for prices <= 300 R^2\", best_rf.score(X_valid_low, y_valid_low, sample_weight=None))\n",
    "print(\"base rf validation for prices <= 300 MAE\", mean_absolute_error(best_valid_low, y_valid_low))"
   ]
  },
  {
   "cell_type": "markdown",
   "metadata": {},
   "source": [
    "# Features selections"
   ]
  },
  {
   "cell_type": "markdown",
   "metadata": {},
   "source": [
    "# To prevent bias, we don't use all the features \n",
    "## Based on the rf feature selection"
   ]
  },
  {
   "cell_type": "code",
   "execution_count": 214,
   "metadata": {
    "scrolled": false
   },
   "outputs": [
    {
     "data": {
      "text/plain": [
       "RandomForestRegressor(bootstrap=True, criterion='mse', max_depth=None,\n",
       "           max_features='auto', max_leaf_nodes=None,\n",
       "           min_impurity_decrease=0.0, min_impurity_split=None,\n",
       "           min_samples_leaf=20, min_samples_split=30,\n",
       "           min_weight_fraction_leaf=0.0, n_estimators=500, n_jobs=None,\n",
       "           oob_score=False, random_state=None, verbose=0, warm_start=False)"
      ]
     },
     "execution_count": 214,
     "metadata": {},
     "output_type": "execute_result"
    }
   ],
   "source": [
    "X_train_select = X_train[feature_importances[:50].index]\n",
    "best_rf_select =  RandomForestRegressor(n_estimators= 500,min_samples_split=30,min_samples_leaf= 20,\n",
    " max_features= 'auto',\n",
    " max_depth= None,\n",
    " bootstrap= True)\n",
    "best_rf_select.fit(X_train_select,y_train)"
   ]
  },
  {
   "cell_type": "code",
   "execution_count": 215,
   "metadata": {},
   "outputs": [
    {
     "data": {
      "image/png": "[encoded data removed]",
      "text/plain": [
       "<Figure size 432x288 with 1 Axes>"
      ]
     },
     "metadata": {},
     "output_type": "display_data"
    }
   ],
   "source": [
    "ax = feature_importances.iloc[:20, :].plot(kind='barh',y='importance')\n",
    "ax.invert_yaxis()\n",
    "ax.get_legend().remove()\n",
    "plt.xlabel('Importance')\n",
    "plt.ylabel('Feature')\n",
    "plt.title('Top 20 Important Features');"
   ]
  },
  {
   "cell_type": "code",
   "execution_count": 216,
   "metadata": {},
   "outputs": [
    {
     "name": "stdout",
     "output_type": "stream",
     "text": [
      "best rf training R^2 with model selection 0.8729762115851596\n",
      "best rf training MAE with model selection 25.972636195282707\n"
     ]
    }
   ],
   "source": [
    "best_train_prediction = best_rf_select.predict(X_train_select)\n",
    "print(\"best rf training R^2 with model selection\", best_rf_select.score(X_train_select, y_train, sample_weight=None))\n",
    "print(\"best rf training MAE with model selection\", mean_absolute_error(best_train_prediction, y_train))"
   ]
  },
  {
   "cell_type": "code",
   "execution_count": 217,
   "metadata": {},
   "outputs": [
    {
     "name": "stdout",
     "output_type": "stream",
     "text": [
      "best rf validation R^2 0.4976835732499505\n",
      "best rf validation MAE 61.72278863763942\n"
     ]
    }
   ],
   "source": [
    "X_valid_select = X_valid[feature_importances[:50].index]\n",
    "best_valid_prediction = best_rf_select.predict(X_valid_select)\n",
    "print(\"best rf validation R^2\", best_rf_select.score(X_valid_select, y_valid, sample_weight=None))\n",
    "print(\"best rf validation MAE\", mean_absolute_error(best_valid_prediction, y_valid))"
   ]
  },
  {
   "cell_type": "code",
   "execution_count": 218,
   "metadata": {},
   "outputs": [
    {
     "name": "stdout",
     "output_type": "stream",
     "text": [
      "base rf validation with selection for prices > 300 R^2 -0.2984009014828706\n",
      "base rf validation with selection for prices > 300 MAE 175.02816845509042\n"
     ]
    }
   ],
   "source": [
    "best_valid_high = best_rf_select.predict(X_valid_high[feature_importances[:50].index])\n",
    "print(\"base rf validation with selection for prices > 300 R^2\", best_rf_select.score(X_valid_high[feature_importances[:50].index], y_valid_high, sample_weight=None))\n",
    "print(\"base rf validation with selection for prices > 300 MAE\", mean_absolute_error(best_valid_high, y_valid_high))"
   ]
  },
  {
   "cell_type": "code",
   "execution_count": 219,
   "metadata": {
    "scrolled": true
   },
   "outputs": [
    {
     "name": "stdout",
     "output_type": "stream",
     "text": [
      "base rf validation with selection for prices <= 300 R^2 0.161186665766209\n",
      "base rf validation with selection for prices <= 300 MAE 41.543162238952384\n"
     ]
    }
   ],
   "source": [
    "best_valid_low = best_rf_select.predict(X_valid_low[feature_importances[:50].index])\n",
    "print(\"base rf validation with selection for prices <= 300 R^2\", best_rf_select.score(X_valid_low[feature_importances[:50].index], y_valid_low, sample_weight=None))\n",
    "print(\"base rf validation with selection for prices <= 300 MAE\", mean_absolute_error(best_valid_low, y_valid_low))"
   ]
  },
  {
   "cell_type": "markdown",
   "metadata": {},
   "source": [
    "# XGBRegressor"
   ]
  },
  {
   "cell_type": "code",
   "execution_count": 206,
   "metadata": {},
   "outputs": [
    {
     "data": {
      "text/plain": [
       "XGBRegressor(base_score=0.5, booster='gbtree', colsample_bylevel=1,\n",
       "       colsample_bytree=0.4, gamma=0, importance_type='gain',\n",
       "       learning_rate=0.07, max_delta_step=0, max_depth=5,\n",
       "       min_child_weight=1.5, missing=None, n_estimators=1000, n_jobs=1,\n",
       "       nthread=None, objective='reg:linear', random_state=0,\n",
       "       reg_alpha=0.75, reg_lambda=0.45, scale_pos_weight=1, seed=42,\n",
       "       silent=True, subsample=0.6)"
      ]
     },
     "execution_count": 206,
     "metadata": {},
     "output_type": "execute_result"
    },
    {
     "data": {
      "text/plain": [
       "0.8842408825116802"
      ]
     },
     "execution_count": 206,
     "metadata": {},
     "output_type": "execute_result"
    },
    {
     "data": {
      "text/plain": [
       "36.84705078601491"
      ]
     },
     "execution_count": 206,
     "metadata": {},
     "output_type": "execute_result"
    },
    {
     "data": {
      "text/plain": [
       "61.40162093254957"
      ]
     },
     "execution_count": 206,
     "metadata": {},
     "output_type": "execute_result"
    }
   ],
   "source": [
    "import xgboost as xgb\n",
    "model = xgb.XGBRegressor(colsample_bytree=0.4, gamma=0, learning_rate=0.07, max_depth=5, min_child_weight=1.5, \n",
    "                         n_estimators=1000, reg_alpha=0.75,reg_lambda=0.45,subsample=0.6,seed=42)\n",
    "model.fit(X_train,y_train)\n",
    "pre2 = model.predict(X_train)\n",
    "model.score(X_train, y_train, sample_weight=None)\n",
    "mean_absolute_error(pre2, y_train)\n",
    "prediction2 = model.predict(X_valid)\n",
    "mean_absolute_error(prediction2, y_valid)"
   ]
  },
  {
   "cell_type": "code",
   "execution_count": 207,
   "metadata": {
    "scrolled": true
   },
   "outputs": [
    {
     "name": "stdout",
     "output_type": "stream",
     "text": [
      "best XGBRegressor training R^2 0.8842408825116802\n",
      "best XGBRegressor training MAE 36.84705078601491\n",
      "best XGBRegressor validation R^2 0.5365449629290868\n",
      "best XGBRegressor validation MAE 61.40162093254957\n",
      "base XGBRegressor validation for prices > 300 R^2 -0.17060797474041833\n",
      "base XGBRegressor validation for prices > 300 MAE 168.25583837920973\n",
      "base XGBRegressor validation for prices <= 300 R^2 0.16787877376487514\n",
      "base XGBRegressor validation for prices <= 300 MAE 42.37094303648056\n"
     ]
    }
   ],
   "source": [
    "best_train_prediction = model.predict(X_train)\n",
    "print(\"best XGBRegressor training R^2\", model.score(X_train, y_train, sample_weight=None))\n",
    "print(\"best XGBRegressor training MAE\", mean_absolute_error(best_train_prediction, y_train))\n",
    "\n",
    "best_valid_prediction = model.predict(X_valid)\n",
    "print(\"best XGBRegressor validation R^2\", model.score(X_valid, y_valid, sample_weight=None))\n",
    "print(\"best XGBRegressor validation MAE\", mean_absolute_error(best_valid_prediction, y_valid))\n",
    "\n",
    "best_valid_high = model.predict(X_valid_high)\n",
    "print(\"base XGBRegressor validation for prices > 300 R^2\", model.score(X_valid_high, y_valid_high, sample_weight=None))\n",
    "print(\"base XGBRegressor validation for prices > 300 MAE\", mean_absolute_error(best_valid_high, y_valid_high))\n",
    "\n",
    "best_valid_low = model.predict(X_valid_low)\n",
    "print(\"base XGBRegressor validation for prices <= 300 R^2\", model.score(X_valid_low, y_valid_low, sample_weight=None))\n",
    "print(\"base XGBRegressor validation for prices <= 300 MAE\", mean_absolute_error(best_valid_low, y_valid_low))"
   ]
  },
  {
   "cell_type": "markdown",
   "metadata": {},
   "source": [
    "# Error metrics on Test set (Random forest)"
   ]
  },
  {
   "cell_type": "code",
   "execution_count": 221,
   "metadata": {},
   "outputs": [
    {
     "name": "stdout",
     "output_type": "stream",
     "text": [
      "best random forest test R^2 0.4715297173457857\n",
      "best random forest test MAE 66.86678194947744\n",
      "base random forest test for prices > 300 R^2 -0.3583521504998959\n",
      "base random forest test for prices > 300 MAE 171.06298642526033\n",
      "base random forest test for prices <= 300 R^2 -0.200130311517132\n",
      "base random forest test for prices <= 300 MAE 46.43512755769701\n"
     ]
    }
   ],
   "source": [
    "\n",
    "best_test_prediction = best_rf_select.predict(X_test[feature_importances[:50].index])\n",
    "print(\"best random forest test R^2\", best_rf_select.score(X_test[feature_importances[:50].index], y_test, sample_weight=None))\n",
    "print(\"best random forest test MAE\", mean_absolute_error(best_test_prediction, y_test))\n",
    "\n",
    "best_test_high = best_rf_select.predict(X_test_high[feature_importances[:50].index])\n",
    "print(\"base random forest test for prices > 300 R^2\", best_rf_select.score(X_test_high[feature_importances[:50].index], y_test_high, sample_weight=None))\n",
    "print(\"base random forest test for prices > 300 MAE\", mean_absolute_error(best_test_high, y_test_high))\n",
    "\n",
    "best_test_low = best_rf_select.predict(X_test_low[feature_importances[:50].index])\n",
    "print(\"base random forest test for prices <= 300 R^2\", best_rf_select.score(X_test_low[feature_importances[:50].index] ,y_test_low, sample_weight=None))\n",
    "print(\"base random forest test for prices <= 300 MAE\", mean_absolute_error(best_test_low, y_test_low))"
   ]
  },
  {
   "cell_type": "markdown",
   "metadata": {},
   "source": [
    "# Time series-- mean price (further things to do in the future)"
   ]
  },
  {
   "cell_type": "code",
   "execution_count": 209,
   "metadata": {},
   "outputs": [
    {
     "data": {
      "text/plain": [
       "array(['2018-01-17', '2016-12-03', '2016-12-04', '2015-12-02',\n",
       "       '2018-04-07', '2018-04-06', '2017-09-02', '2016-02-02',\n",
       "       '2017-01-01', '2018-03-04', '2018-03-06', '2017-08-02',\n",
       "       '2018-02-02', '2017-03-02', '2016-05-02', '2018-01-10',\n",
       "       '2018-11-03', '2017-12-07', '2016-04-03', '2017-02-02',\n",
       "       '2017-07-02', '2016-09-02', '2017-11-01', '2015-09-02',\n",
       "       '2016-10-01', '2018-07-05', '2017-10-02', '2016-11-02',\n",
       "       '2015-11-02', '2015-11-01', '2018-05-09', '2016-08-02',\n",
       "       '2016-08-03', '2017-06-02', '2017-11-08', '2018-12-06',\n",
       "       '2018-08-06', '2017-04-02', '2016-06-02', '2016-07-02',\n",
       "       '2017-05-02', '2017-05-03', '2017-12-02', '2017-12-03',\n",
       "       '2018-09-08', '2018-10-03'], dtype=object)"
      ]
     },
     "execution_count": 209,
     "metadata": {},
     "output_type": "execute_result"
    },
    {
     "data": {
      "text/plain": [
       "<matplotlib.axes._subplots.AxesSubplot at 0x1b6c040160>"
      ]
     },
     "execution_count": 209,
     "metadata": {},
     "output_type": "execute_result"
    },
    {
     "data": {
      "text/plain": [
       "(array([ 0.,  5., 10., 15., 20., 25., 30., 35., 40., 45.]),\n",
       " <a list of 10 Text xticklabel objects>)"
      ]
     },
     "execution_count": 209,
     "metadata": {},
     "output_type": "execute_result"
    },
    {
     "data": {
      "text/plain": [
       "Text(0, 0.5, 'price')"
      ]
     },
     "execution_count": 209,
     "metadata": {},
     "output_type": "execute_result"
    },
    {
     "data": {
      "text/plain": [
       "Text(0.5, 0, 'Date')"
      ]
     },
     "execution_count": 209,
     "metadata": {},
     "output_type": "execute_result"
    },
    {
     "data": {
      "text/plain": [
       "Text(0.5, 1.0, 'Mean price vs time series')"
      ]
     },
     "execution_count": 209,
     "metadata": {},
     "output_type": "execute_result"
    },
    {
     "data": {
      "image/png": "[encoded data removed]",
      "text/plain": [
       "<Figure size 432x288 with 1 Axes>"
      ]
     },
     "metadata": {},
     "output_type": "display_data"
    }
   ],
   "source": [
    "data_new[\"last_scraped\"].unique()\n",
    "\n",
    "series = data_new.groupby(\"last_scraped\").mean()[\"price\"]\n",
    "series.plot()\n",
    "plt.xticks(rotation=90)\n",
    "plt.ylabel(\"price\")\n",
    "plt.xlabel(\"Date\")\n",
    "plt.title(\"Mean price vs time series\")"
   ]
  }
 ],
 "metadata": {
  "kernelspec": {
   "display_name": "Python 3",
   "language": "python",
   "name": "python3"
  },
  "language_info": {
   "codemirror_mode": {
    "name": "ipython",
    "version": 3
   },
   "file_extension": ".py",
   "mimetype": "text/x-python",
   "name": "python",
   "nbconvert_exporter": "python",
   "pygments_lexer": "ipython3",
   "version": "3.7.4"
  }
 },
 "nbformat": 4,
 "nbformat_minor": 2
}
